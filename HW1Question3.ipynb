{
  "nbformat": 4,
  "nbformat_minor": 0,
  "metadata": {
    "colab": {
      "provenance": [],
      "authorship_tag": "ABX9TyOaqsmTK0xacdbowiQJNTFI",
      "include_colab_link": true
    },
    "kernelspec": {
      "name": "ir",
      "display_name": "R"
    },
    "language_info": {
      "name": "R"
    }
  },
  "cells": [
    {
      "cell_type": "markdown",
      "metadata": {
        "id": "view-in-github",
        "colab_type": "text"
      },
      "source": [
        "<a href=\"https://colab.research.google.com/github/DeniseKelley/demo2/blob/master/HW1Question3.ipynb\" target=\"_parent\"><img src=\"https://colab.research.google.com/assets/colab-badge.svg\" alt=\"Open In Colab\"/></a>"
      ]
    },
    {
      "cell_type": "markdown",
      "source": [
        "### **Please try using two missing-data imputation methods to impute the ? shown in the Table.**"
      ],
      "metadata": {
        "id": "aMSV4lopNE94"
      }
    },
    {
      "cell_type": "code",
      "execution_count": 19,
      "metadata": {
        "id": "1YrUkOSUvHIa"
      },
      "outputs": [],
      "source": [
        "#Damage- 0/1; Age - (year); Wind Speed - (mph) ; Storm Surge - (feet)\n",
        "#create data frame\n",
        "data  <- data.frame(Damage = c(0, 1, 1, 1, 0, 0, 1, 0, 0),\n",
        "                   Age = c(8, 56, 42, 23, 12, 5, 38, 32, 27),\n",
        "                   Wind_Speed = c(120, 108, 115, 138, 145, 152, 125, 98, NA),\n",
        "                   Storm_Surge = c(10, 7, 9, 15, 14, 17, 11, 6, 10))\n",
        "data2 <- data"
      ]
    },
    {
      "cell_type": "code",
      "source": [
        "#use mean imputation\n",
        "Wind_mean <-mean(data[[\"Wind_Speed\"]], na.rm = TRUE)\n",
        "Wind_mean\n",
        "data[[\"Wind_Speed\"]][is.na(data[[\"Wind_Speed\"]])] <- Wind_mean\n",
        "data[[\"Wind_Speed\"]]\n",
        "data"
      ],
      "metadata": {
        "colab": {
          "base_uri": "https://localhost:8080/",
          "height": 415
        },
        "id": "imGFzHDBwEQj",
        "outputId": "7d796487-21c1-4821-d875-5b935e60cb38"
      },
      "execution_count": 38,
      "outputs": [
        {
          "output_type": "display_data",
          "data": {
            "text/html": [
              "125.125"
            ],
            "text/markdown": "125.125",
            "text/latex": "125.125",
            "text/plain": [
              "[1] 125.125"
            ]
          },
          "metadata": {}
        },
        {
          "output_type": "display_data",
          "data": {
            "text/html": [
              "<style>\n",
              ".list-inline {list-style: none; margin:0; padding: 0}\n",
              ".list-inline>li {display: inline-block}\n",
              ".list-inline>li:not(:last-child)::after {content: \"\\00b7\"; padding: 0 .5ex}\n",
              "</style>\n",
              "<ol class=list-inline><li>120</li><li>108</li><li>115</li><li>138</li><li>145</li><li>152</li><li>125</li><li>98</li><li>125.125</li></ol>\n"
            ],
            "text/markdown": "1. 120\n2. 108\n3. 115\n4. 138\n5. 145\n6. 152\n7. 125\n8. 98\n9. 125.125\n\n\n",
            "text/latex": "\\begin{enumerate*}\n\\item 120\n\\item 108\n\\item 115\n\\item 138\n\\item 145\n\\item 152\n\\item 125\n\\item 98\n\\item 125.125\n\\end{enumerate*}\n",
            "text/plain": [
              "[1] 120.000 108.000 115.000 138.000 145.000 152.000 125.000  98.000 125.125"
            ]
          },
          "metadata": {}
        },
        {
          "output_type": "display_data",
          "data": {
            "text/html": [
              "<table class=\"dataframe\">\n",
              "<caption>A data.frame: 9 × 4</caption>\n",
              "<thead>\n",
              "\t<tr><th scope=col>Damage</th><th scope=col>Age</th><th scope=col>Wind_Speed</th><th scope=col>Storm_Surge</th></tr>\n",
              "\t<tr><th scope=col>&lt;dbl&gt;</th><th scope=col>&lt;dbl&gt;</th><th scope=col>&lt;dbl&gt;</th><th scope=col>&lt;dbl&gt;</th></tr>\n",
              "</thead>\n",
              "<tbody>\n",
              "\t<tr><td>0</td><td> 8</td><td>120.000</td><td>10</td></tr>\n",
              "\t<tr><td>1</td><td>56</td><td>108.000</td><td> 7</td></tr>\n",
              "\t<tr><td>1</td><td>42</td><td>115.000</td><td> 9</td></tr>\n",
              "\t<tr><td>1</td><td>23</td><td>138.000</td><td>15</td></tr>\n",
              "\t<tr><td>0</td><td>12</td><td>145.000</td><td>14</td></tr>\n",
              "\t<tr><td>0</td><td> 5</td><td>152.000</td><td>17</td></tr>\n",
              "\t<tr><td>1</td><td>38</td><td>125.000</td><td>11</td></tr>\n",
              "\t<tr><td>0</td><td>32</td><td> 98.000</td><td> 6</td></tr>\n",
              "\t<tr><td>0</td><td>27</td><td>125.125</td><td>10</td></tr>\n",
              "</tbody>\n",
              "</table>\n"
            ],
            "text/markdown": "\nA data.frame: 9 × 4\n\n| Damage &lt;dbl&gt; | Age &lt;dbl&gt; | Wind_Speed &lt;dbl&gt; | Storm_Surge &lt;dbl&gt; |\n|---|---|---|---|\n| 0 |  8 | 120.000 | 10 |\n| 1 | 56 | 108.000 |  7 |\n| 1 | 42 | 115.000 |  9 |\n| 1 | 23 | 138.000 | 15 |\n| 0 | 12 | 145.000 | 14 |\n| 0 |  5 | 152.000 | 17 |\n| 1 | 38 | 125.000 | 11 |\n| 0 | 32 |  98.000 |  6 |\n| 0 | 27 | 125.125 | 10 |\n\n",
            "text/latex": "A data.frame: 9 × 4\n\\begin{tabular}{llll}\n Damage & Age & Wind\\_Speed & Storm\\_Surge\\\\\n <dbl> & <dbl> & <dbl> & <dbl>\\\\\n\\hline\n\t 0 &  8 & 120.000 & 10\\\\\n\t 1 & 56 & 108.000 &  7\\\\\n\t 1 & 42 & 115.000 &  9\\\\\n\t 1 & 23 & 138.000 & 15\\\\\n\t 0 & 12 & 145.000 & 14\\\\\n\t 0 &  5 & 152.000 & 17\\\\\n\t 1 & 38 & 125.000 & 11\\\\\n\t 0 & 32 &  98.000 &  6\\\\\n\t 0 & 27 & 125.125 & 10\\\\\n\\end{tabular}\n",
            "text/plain": [
              "  Damage Age Wind_Speed Storm_Surge\n",
              "1 0       8  120.000    10         \n",
              "2 1      56  108.000     7         \n",
              "3 1      42  115.000     9         \n",
              "4 1      23  138.000    15         \n",
              "5 0      12  145.000    14         \n",
              "6 0       5  152.000    17         \n",
              "7 1      38  125.000    11         \n",
              "8 0      32   98.000     6         \n",
              "9 0      27  125.125    10         "
            ]
          },
          "metadata": {}
        }
      ]
    },
    {
      "cell_type": "code",
      "source": [
        "# linear interpolation for missing values\n",
        "data2[[\"Wind_Speed\"]] <- approx(seq_along(data2[[\"Wind_Speed\"]]), data2[[\"Wind_Speed\"]], method = \"linear\", n= nrow(data2),na.rm = FALSE)$y\n",
        "data2"
      ],
      "metadata": {
        "colab": {
          "base_uri": "https://localhost:8080/",
          "height": 380
        },
        "id": "E4HZ4vMhzH3D",
        "outputId": "007b0c70-1afb-4e68-beaa-ef6eedc406af"
      },
      "execution_count": 42,
      "outputs": [
        {
          "output_type": "display_data",
          "data": {
            "text/html": [
              "<table class=\"dataframe\">\n",
              "<caption>A data.frame: 9 × 4</caption>\n",
              "<thead>\n",
              "\t<tr><th scope=col>Damage</th><th scope=col>Age</th><th scope=col>Wind_Speed</th><th scope=col>Storm_Surge</th></tr>\n",
              "\t<tr><th scope=col>&lt;dbl&gt;</th><th scope=col>&lt;dbl&gt;</th><th scope=col>&lt;dbl&gt;</th><th scope=col>&lt;dbl&gt;</th></tr>\n",
              "</thead>\n",
              "<tbody>\n",
              "\t<tr><td>0</td><td> 8</td><td>120.000</td><td>10</td></tr>\n",
              "\t<tr><td>1</td><td>56</td><td>109.500</td><td> 7</td></tr>\n",
              "\t<tr><td>1</td><td>42</td><td>113.250</td><td> 9</td></tr>\n",
              "\t<tr><td>1</td><td>23</td><td>129.375</td><td>15</td></tr>\n",
              "\t<tr><td>0</td><td>12</td><td>141.500</td><td>14</td></tr>\n",
              "\t<tr><td>0</td><td> 5</td><td>147.625</td><td>17</td></tr>\n",
              "\t<tr><td>1</td><td>38</td><td>145.250</td><td>11</td></tr>\n",
              "\t<tr><td>0</td><td>32</td><td>121.625</td><td> 6</td></tr>\n",
              "\t<tr><td>0</td><td>27</td><td> 98.000</td><td>10</td></tr>\n",
              "</tbody>\n",
              "</table>\n"
            ],
            "text/markdown": "\nA data.frame: 9 × 4\n\n| Damage &lt;dbl&gt; | Age &lt;dbl&gt; | Wind_Speed &lt;dbl&gt; | Storm_Surge &lt;dbl&gt; |\n|---|---|---|---|\n| 0 |  8 | 120.000 | 10 |\n| 1 | 56 | 109.500 |  7 |\n| 1 | 42 | 113.250 |  9 |\n| 1 | 23 | 129.375 | 15 |\n| 0 | 12 | 141.500 | 14 |\n| 0 |  5 | 147.625 | 17 |\n| 1 | 38 | 145.250 | 11 |\n| 0 | 32 | 121.625 |  6 |\n| 0 | 27 |  98.000 | 10 |\n\n",
            "text/latex": "A data.frame: 9 × 4\n\\begin{tabular}{llll}\n Damage & Age & Wind\\_Speed & Storm\\_Surge\\\\\n <dbl> & <dbl> & <dbl> & <dbl>\\\\\n\\hline\n\t 0 &  8 & 120.000 & 10\\\\\n\t 1 & 56 & 109.500 &  7\\\\\n\t 1 & 42 & 113.250 &  9\\\\\n\t 1 & 23 & 129.375 & 15\\\\\n\t 0 & 12 & 141.500 & 14\\\\\n\t 0 &  5 & 147.625 & 17\\\\\n\t 1 & 38 & 145.250 & 11\\\\\n\t 0 & 32 & 121.625 &  6\\\\\n\t 0 & 27 &  98.000 & 10\\\\\n\\end{tabular}\n",
            "text/plain": [
              "  Damage Age Wind_Speed Storm_Surge\n",
              "1 0       8  120.000    10         \n",
              "2 1      56  109.500     7         \n",
              "3 1      42  113.250     9         \n",
              "4 1      23  129.375    15         \n",
              "5 0      12  141.500    14         \n",
              "6 0       5  147.625    17         \n",
              "7 1      38  145.250    11         \n",
              "8 0      32  121.625     6         \n",
              "9 0      27   98.000    10         "
            ]
          },
          "metadata": {}
        }
      ]
    },
    {
      "cell_type": "markdown",
      "source": [
        "### **2. Please use VIF to check multicollinearity. If multicollinearity exists, please determine which variable(s) to remove and report the final VIF values for the remaining variable(s). Explain your answer.**"
      ],
      "metadata": {
        "id": "k0JqgmlXMkJC"
      }
    },
    {
      "cell_type": "code",
      "source": [
        "install.packages('car')"
      ],
      "metadata": {
        "colab": {
          "base_uri": "https://localhost:8080/",
          "height": 0
        },
        "id": "1i0kEu0o3jcW",
        "outputId": "e5844b60-7c52-40c9-b4e2-9c9dfc7ae152"
      },
      "execution_count": 48,
      "outputs": [
        {
          "output_type": "stream",
          "name": "stderr",
          "text": [
            "Installing package into ‘/usr/local/lib/R/site-library’\n",
            "(as ‘lib’ is unspecified)\n",
            "\n",
            "also installing the dependencies ‘numDeriv’, ‘SparseM’, ‘MatrixModels’, ‘minqa’, ‘nloptr’, ‘Rcpp’, ‘RcppEigen’, ‘carData’, ‘abind’, ‘pbkrtest’, ‘quantreg’, ‘lme4’\n",
            "\n",
            "\n"
          ]
        }
      ]
    },
    {
      "cell_type": "code",
      "source": [
        "install.packages(\"caTools\")"
      ],
      "metadata": {
        "colab": {
          "base_uri": "https://localhost:8080/",
          "height": 0
        },
        "id": "yNTd4hR78M0d",
        "outputId": "6b23dddf-a87a-4b85-a75e-95d81469d098"
      },
      "execution_count": 62,
      "outputs": [
        {
          "output_type": "stream",
          "name": "stderr",
          "text": [
            "Installing package into ‘/usr/local/lib/R/site-library’\n",
            "(as ‘lib’ is unspecified)\n",
            "\n"
          ]
        }
      ]
    },
    {
      "cell_type": "code",
      "source": [
        "library(car)\n",
        "# create model\n",
        "model <- lm(Damage ~ Age + Wind_Speed + Storm_Surge, data = data)\n",
        "\n",
        "vif_model<-vif(model)\n",
        "vif_model"
      ],
      "metadata": {
        "colab": {
          "base_uri": "https://localhost:8080/",
          "height": 34
        },
        "id": "LV96XiS14vD3",
        "outputId": "2f9259ed-1d3c-492c-aa83-37bae65c0282"
      },
      "execution_count": 65,
      "outputs": [
        {
          "output_type": "display_data",
          "data": {
            "text/html": [
              "<style>\n",
              ".dl-inline {width: auto; margin:0; padding: 0}\n",
              ".dl-inline>dt, .dl-inline>dd {float: none; width: auto; display: inline-block}\n",
              ".dl-inline>dt::after {content: \":\\0020\"; padding-right: .5ex}\n",
              ".dl-inline>dt:not(:first-of-type) {padding-left: .5ex}\n",
              "</style><dl class=dl-inline><dt>Age</dt><dd>1.93142233430991</dd><dt>Wind_Speed</dt><dd>22.5776073188971</dd><dt>Storm_Surge</dt><dd>22.8591940919378</dd></dl>\n"
            ],
            "text/markdown": "Age\n:   1.93142233430991Wind_Speed\n:   22.5776073188971Storm_Surge\n:   22.8591940919378\n\n",
            "text/latex": "\\begin{description*}\n\\item[Age] 1.93142233430991\n\\item[Wind\\textbackslash{}\\_Speed] 22.5776073188971\n\\item[Storm\\textbackslash{}\\_Surge] 22.8591940919378\n\\end{description*}\n",
            "text/plain": [
              "        Age  Wind_Speed Storm_Surge \n",
              "   1.931422   22.577607   22.859194 "
            ]
          },
          "metadata": {}
        }
      ]
    },
    {
      "cell_type": "markdown",
      "source": [
        "VIF for Wind Speed and Storm Surge are high indicating that there could be be a strong correlation between these variable"
      ],
      "metadata": {
        "id": "CvVOswmg9Bw9"
      }
    },
    {
      "cell_type": "code",
      "source": [
        "# correlation between Wind_Speed and Storm_Surge\n",
        "cor(data$Wind_Speed, data$Storm_Surge)\n"
      ],
      "metadata": {
        "colab": {
          "base_uri": "https://localhost:8080/",
          "height": 34
        },
        "id": "4ueLAAQFLr35",
        "outputId": "27b9784f-2461-46fb-ae0d-77c16a38008a"
      },
      "execution_count": 68,
      "outputs": [
        {
          "output_type": "display_data",
          "data": {
            "text/html": [
              "0.97748683119033"
            ],
            "text/markdown": "0.97748683119033",
            "text/latex": "0.97748683119033",
            "text/plain": [
              "[1] 0.9774868"
            ]
          },
          "metadata": {}
        }
      ]
    },
    {
      "cell_type": "markdown",
      "source": [
        "The value for cor is close to 1 which shows that there is a strong correlation between wind and storm surge. So we can try and remove wind variable from our data."
      ],
      "metadata": {
        "id": "TAWEAdHSL4ob"
      }
    },
    {
      "cell_type": "code",
      "source": [
        "# 'Damage' - y\n",
        "model_without_wind <- lm(Damage ~ Age + Storm_Surge, data = data)\n",
        "vif_model_without_wind <- car::vif(model_without_wind)\n",
        "print(vif_model_without_wind)\n"
      ],
      "metadata": {
        "colab": {
          "base_uri": "https://localhost:8080/",
          "height": 0
        },
        "id": "imj7Y0M2Lbv4",
        "outputId": "9f59df0a-efe6-434b-a145-e2632fde727c"
      },
      "execution_count": 66,
      "outputs": [
        {
          "output_type": "stream",
          "name": "stdout",
          "text": [
            "        Age Storm_Surge \n",
            "   1.921539    1.921539 \n"
          ]
        }
      ]
    },
    {
      "cell_type": "markdown",
      "source": [
        "Final VIF values are improved"
      ],
      "metadata": {
        "id": "Najq02I9MReX"
      }
    },
    {
      "cell_type": "markdown",
      "source": [
        "### **Please use PCA to extract three principal components and report the results (no need to scale the variables)**"
      ],
      "metadata": {
        "id": "xsY5322qMzz0"
      }
    },
    {
      "cell_type": "code",
      "source": [
        "pca_result <- prcomp(data[, c(\"Age\", \"Wind_Speed\", \"Storm_Surge\")], center = FALSE, scale. = FALSE)\n",
        "\n",
        "# Extract the three principal components\n",
        "principal_components <- pca_result$x[, 1:3]\n",
        "\n",
        "# Print the results\n",
        "print(principal_components)"
      ],
      "metadata": {
        "colab": {
          "base_uri": "https://localhost:8080/",
          "height": 0
        },
        "id": "pP0HgtNgNRjL",
        "outputId": "3940569b-1f38-4d61-aeee-a06a92c978fd"
      },
      "execution_count": 69,
      "outputs": [
        {
          "output_type": "stream",
          "name": "stdout",
          "text": [
            "            PC1        PC2        PC3\n",
            " [1,] -119.5832 -16.103139  2.1348285\n",
            " [2,] -117.2030  33.353026 -0.1937822\n",
            " [3,] -121.4113  18.144931 -0.2584339\n",
            " [4,] -140.5846  -5.407609 -2.1713327\n",
            " [5,] -145.1302 -17.377725  0.4846275\n",
            " [6,] -150.8249 -25.855369 -1.1584963\n",
            " [7,] -130.5459  12.127011 -0.8447215\n",
            " [8,] -102.5598  11.933621  1.7522901\n",
            " [9,] -128.3820   1.467836  1.0827958\n"
          ]
        }
      ]
    },
    {
      "cell_type": "markdown",
      "source": [
        "## **Plot the cumulative proportion of variance v.s. the principal component. If we want to explain 90% of the total variability possibly explained by the model,which principal component(s) should we keep? How about explaining 80% of the total variability? Please explain your answer**"
      ],
      "metadata": {
        "id": "mHxTwoLZN6Fw"
      }
    },
    {
      "cell_type": "code",
      "source": [
        "##WITH WIND\n",
        "# Exclude the \"Damage\" variable\n",
        "variables <- data[, names(data) != \"Damage\"]\n",
        "\n",
        "# Calculate variances for each variable\n",
        "variances <- sapply(variables, var)\n",
        "\n",
        "variances\n"
      ],
      "metadata": {
        "colab": {
          "base_uri": "https://localhost:8080/",
          "height": 34
        },
        "id": "Kj9AiOWmVWlU",
        "outputId": "d5cd35b3-9c95-4007-ff80-3d180155d9a5"
      },
      "execution_count": 109,
      "outputs": [
        {
          "output_type": "display_data",
          "data": {
            "text/html": [
              "<style>\n",
              ".dl-inline {width: auto; margin:0; padding: 0}\n",
              ".dl-inline>dt, .dl-inline>dd {float: none; width: auto; display: inline-block}\n",
              ".dl-inline>dt::after {content: \":\\0020\"; padding-right: .5ex}\n",
              ".dl-inline>dt:not(:first-of-type) {padding-left: .5ex}\n",
              "</style><dl class=dl-inline><dt>Age</dt><dd>287.25</dd><dt>Wind_Speed</dt><dd>305.109375</dd><dt>Storm_Surge</dt><dd>13.5</dd></dl>\n"
            ],
            "text/markdown": "Age\n:   287.25Wind_Speed\n:   305.109375Storm_Surge\n:   13.5\n\n",
            "text/latex": "\\begin{description*}\n\\item[Age] 287.25\n\\item[Wind\\textbackslash{}\\_Speed] 305.109375\n\\item[Storm\\textbackslash{}\\_Surge] 13.5\n\\end{description*}\n",
            "text/plain": [
              "        Age  Wind_Speed Storm_Surge \n",
              "   287.2500    305.1094     13.5000 "
            ]
          },
          "metadata": {}
        }
      ]
    },
    {
      "cell_type": "code",
      "source": [
        "# Calculate the cumulative variance\n",
        "cumulative_variance <- cumsum(variances) / sum(variances)\n",
        "\n",
        "# Print the cumulative variance\n",
        "print(cumulative_variance)\n"
      ],
      "metadata": {
        "colab": {
          "base_uri": "https://localhost:8080/",
          "height": 0
        },
        "id": "Mao1qsELWgzt",
        "outputId": "36f55b01-3024-4844-d4aa-e0eb9cff9ef3"
      },
      "execution_count": 110,
      "outputs": [
        {
          "output_type": "stream",
          "name": "stdout",
          "text": [
            "        Age  Wind_Speed Storm_Surge \n",
            "  0.4741199   0.9777176   1.0000000 \n"
          ]
        }
      ]
    },
    {
      "cell_type": "code",
      "source": [
        "#Plot the cumulative proportion of variance\n",
        "\n",
        "# Plot cumulative variance as a line plot\n",
        "plot(cumulative_variance, type = 'l',\n",
        "     xlab = \"Components\", ylab = \"Cumulative Variance\",\n",
        "     col = \"black\")\n",
        "\n",
        "# Add horizontal lines at 0.99 and 0.8\n",
        "abline(h = 0.99, col = \"red\", lty = 2)\n",
        "abline(h = 0.8, col = \"blue\", lty = 2)\n"
      ],
      "metadata": {
        "colab": {
          "base_uri": "https://localhost:8080/",
          "height": 437
        },
        "id": "kFUIh2JVTfHN",
        "outputId": "2bb0d2cc-7d6a-46e8-e49a-7ab2ee72fb59"
      },
      "execution_count": 115,
      "outputs": [
        {
          "output_type": "display_data",
          "data": {
            "text/plain": [
              "plot without title"
            ],
            "image/png": "[encoded data removed]"
          },
          "metadata": {
            "image/png": {
              "width": 420,
              "height": 420
            }
          }
        }
      ]
    },
    {
      "cell_type": "code",
      "source": [
        "# Find the number of components for 90% and 80% variability\n",
        "num_components_90 <- which(cumulative_variance >= 0.9)[1]\n",
        "num_components_80 <- which(cumulative_variance >= 0.8)[1\n",
        "\n",
        "print(paste(\"Number of components for 90% variability:\", num_components_90))\n",
        "print(paste(\"Number of components for 80% variability:\", num_components_80))"
      ],
      "metadata": {
        "colab": {
          "base_uri": "https://localhost:8080/",
          "height": 0
        },
        "id": "59ueuFULbW_9",
        "outputId": "ceb92216-9690-4bc1-bde1-1e5cb2d6532f"
      },
      "execution_count": 116,
      "outputs": [
        {
          "output_type": "stream",
          "name": "stdout",
          "text": [
            "[1] \"Number of components for 90% variability: 2\"\n",
            "[1] \"Number of components for 80% variability: 2\"\n"
          ]
        }
      ]
    }
  ]
}